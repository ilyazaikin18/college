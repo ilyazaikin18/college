{
  "cells": [
    {
      "cell_type": "markdown",
      "metadata": {
        "id": "view-in-github",
        "colab_type": "text"
      },
      "source": [
        "<a href=\"https://colab.research.google.com/github/Ilyazaikin/Pz_1-2-sem/blob/main/Pz_11.ipynb\" target=\"_parent\"><img src=\"https://colab.research.google.com/assets/colab-badge.svg\" alt=\"Open In Colab\"/></a>"
      ]
    },
    {
      "cell_type": "markdown",
      "source": [
        "ПЗ_3 Задача 1"
      ],
      "metadata": {
        "id": "NKzd7S7IOl7B"
      }
    },
    {
      "cell_type": "code",
      "source": [
        "# Даны три целых числа: A, B, C. Проверить истинность высказывания: «Ровно одно из чисел A, B, C положительное».\n",
        "a = input(\"Введите целое число a: \")\n",
        "while type(a) !=int:\n",
        "    try:\n",
        "        a = int(a)\n",
        "    except ValueError:\n",
        "        print(\"Целое число а, введено неверно\")\n",
        "        a = input(\"Введите целое число a: \")\n",
        "\n",
        "\n",
        "b = input(\"Введите целое число b: \")\n",
        "while type(b) !=int:\n",
        "    try:\n",
        "        b = int(b)\n",
        "    except ValueError:\n",
        "        print(\"Целое число b, введено неверно\")\n",
        "        b = input(\"Введите целое число b: \")\n",
        "\n",
        "\n",
        "c = input(\"Введите целое число c: \")\n",
        "while type(c) !=int:\n",
        "    try:\n",
        "        c = int(c)\n",
        "    except ValueError:\n",
        "        print(\"Целое число c, введено неверно\")\n",
        "        c = input(\"Введите целое число b: \")\n",
        "\n",
        "\n",
        "if (a > 0) and (b < 0) and (c < 0):\n",
        "    print(\"Число а положительное\")\n",
        "elif (b > 0) and (a < 0) and (c < 0):\n",
        "    print(\"Число b положительное\")\n",
        "elif (c > 0) and (b < 0) and (a < 0):\n",
        "    print(\"Число c положительное\")\n",
        "elif (a > 0) and (b > 0) and (c > 0):\n",
        "    print(\"Все числа положительные\")\n",
        "elif (a < 0) and (b < 0) and (c < 0):\n",
        "    print(\"Все числа отрицательные\")"
      ],
      "metadata": {
        "id": "0gtFAAOCOqOI",
        "outputId": "254c8b32-dee7-4a3d-a1ed-735a6c9b4998",
        "colab": {
          "base_uri": "https://localhost:8080/"
        }
      },
      "execution_count": 1,
      "outputs": [
        {
          "output_type": "stream",
          "name": "stdout",
          "text": [
            "Введите целое число a: 5\n",
            "Введите целое число b: 3\n",
            "Введите целое число c: 1\n",
            "Все числа положительные\n"
          ]
        }
      ]
    },
    {
      "cell_type": "markdown",
      "source": [
        "ПЗ_4 Задача 1"
      ],
      "metadata": {
        "id": "8GBeYiIWPcMN"
      }
    },
    {
      "cell_type": "code",
      "source": [
        "# Дано вещественное число A и целое число N (>0). Используя один цикл, найти сумму 1 + A + A2 + A3 + ... + AN.\n",
        "A = input(\"Введите вещественное число A: \")\n",
        "while type(A) != float:\n",
        "    try:\n",
        "        A = float(A)\n",
        "    except ValueError:\n",
        "        print(\"Неправильно введено число\")\n",
        "        A = input(\"Введите вещественное число A: \")\n",
        "\n",
        "N = input(\"Введите целое число N: \")\n",
        "while type(N) != int:\n",
        "    try:\n",
        "        N = int(N)\n",
        "    except ValueError:\n",
        "        print(\"Неправильно введено число\")\n",
        "        N = input(\"Введите целое число N: \")\n",
        "\n",
        "B = 1\n",
        "t = 0\n",
        "n = N\n",
        "while t < N:\n",
        "    B += A ** n\n",
        "    t += 1\n",
        "    n -= 1\n",
        "print(\"Сумма равна : \", B)"
      ],
      "metadata": {
        "id": "LWW7SJ3zPfQG",
        "outputId": "5352b1eb-9fc3-4903-9a58-772efbd436ef",
        "colab": {
          "base_uri": "https://localhost:8080/"
        }
      },
      "execution_count": 2,
      "outputs": [
        {
          "output_type": "stream",
          "name": "stdout",
          "text": [
            "Введите вещественное число A: 2.5\n",
            "Введите целое число N: 2\n",
            "Сумма равна :  9.75\n"
          ]
        }
      ]
    },
    {
      "cell_type": "markdown",
      "source": [
        "ПЗ_5 Задача 1"
      ],
      "metadata": {
        "id": "IAYMV3-BPw52"
      }
    },
    {
      "cell_type": "code",
      "source": [
        "# Составить функцию, которая выведет на экран строку, содержащую задаваемое с клавиатуры число символов.\n",
        "def sum():\n",
        "    sum_sim = str(input(\"Введите любые символы: \"))\n",
        "    sum = len(sum_sim)\n",
        "    print(\"Количество символов в строке: \", sum)\n",
        "sum()"
      ],
      "metadata": {
        "id": "k_MKiAyfPyp_",
        "outputId": "74ea892c-790c-4058-894a-44e335692151",
        "colab": {
          "base_uri": "https://localhost:8080/"
        }
      },
      "execution_count": 3,
      "outputs": [
        {
          "output_type": "stream",
          "name": "stdout",
          "text": [
            "Введите любые символы: 2323аваыыфвфыв231\n",
            "Количество символов в строке:  17\n"
          ]
        }
      ]
    }
  ],
  "metadata": {
    "colab": {
      "collapsed_sections": [],
      "name": "Добро пожаловать в Colaboratory!",
      "provenance": [],
      "include_colab_link": true
    },
    "kernelspec": {
      "display_name": "Python 3",
      "name": "python3"
    }
  },
  "nbformat": 4,
  "nbformat_minor": 0
}